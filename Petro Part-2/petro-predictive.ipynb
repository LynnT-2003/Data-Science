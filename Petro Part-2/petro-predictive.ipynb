{
  "cells": [
    {
      "cell_type": "markdown",
      "source": [
        "# Setting up"
      ],
      "metadata": {
        "id": "FdNyPkpIsu3I"
      }
    },
    {
      "cell_type": "markdown",
      "source": [
        "Import all the neccessary modules"
      ],
      "metadata": {
        "id": "a0ZMPHdMs2Sy"
      }
    },
    {
      "cell_type": "code",
      "execution_count": null,
      "metadata": {
        "colab": {
          "base_uri": "https://localhost:8080/"
        },
        "id": "N7wtqPhOtwhy",
        "outputId": "3c51f060-cfa5-4fea-d343-f07c8071a9bc"
      },
      "outputs": [
        {
          "output_type": "stream",
          "name": "stdout",
          "text": [
            "Setup Complete\n"
          ]
        }
      ],
      "source": [
        "import pandas as pd\n",
        "pd.plotting.register_matplotlib_converters()\n",
        "import matplotlib.pyplot as plt\n",
        "%matplotlib inline\n",
        "import seaborn as sns\n",
        "from sklearn.model_selection import train_test_split\n",
        "from sklearn.ensemble import RandomForestRegressor\n",
        "from sklearn.metrics import mean_absolute_error, mean_squared_error, r2_score\n",
        "from statsmodels.tsa.arima.model import ARIMA\n",
        "import numpy as np\n",
        "from statsmodels.tsa.statespace.sarimax import SARIMAX\n",
        "from sklearn.preprocessing import LabelEncoder\n",
        "from statsmodels.graphics.tsaplots import plot_acf, plot_pacf\n",
        "\n",
        "print(\"Setup Complete\")"
      ]
    },
    {
      "cell_type": "markdown",
      "source": [
        "Get the dataframe for analysis"
      ],
      "metadata": {
        "id": "ZUPF5ugPs52r"
      }
    },
    {
      "cell_type": "code",
      "execution_count": null,
      "metadata": {
        "id": "nBTIgVmauJBU"
      },
      "outputs": [],
      "source": [
        "journal = \"/content/journal.csv\""
      ]
    },
    {
      "cell_type": "code",
      "execution_count": null,
      "metadata": {
        "id": "FsX5v5EiuNfL"
      },
      "outputs": [],
      "source": [
        "journal_detail = \"/content/journal_detail.csv\""
      ]
    },
    {
      "cell_type": "code",
      "execution_count": null,
      "metadata": {
        "id": "NbaYrLBhuOec"
      },
      "outputs": [],
      "source": [
        "journal_df = pd.read_csv(journal, sep= \";\")"
      ]
    },
    {
      "cell_type": "code",
      "execution_count": null,
      "metadata": {
        "id": "QBiziIbDuPtc"
      },
      "outputs": [],
      "source": [
        "journal_detail_df = pd.read_csv(journal_detail, sep=\";\")"
      ]
    },
    {
      "cell_type": "code",
      "execution_count": null,
      "metadata": {
        "id": "Yh48wiMAuw1e"
      },
      "outputs": [],
      "source": [
        "df = pd.merge(journal_df,journal_detail_df, on=\"oid\")"
      ]
    },
    {
      "cell_type": "code",
      "execution_count": null,
      "metadata": {
        "id": "dpD0KjQ4u2yX"
      },
      "outputs": [],
      "source": [
        "#Check\n",
        "\n",
        "# journal_detail_df"
      ]
    },
    {
      "cell_type": "code",
      "execution_count": null,
      "metadata": {
        "id": "aA3jeI8Mu8Jk"
      },
      "outputs": [],
      "source": [
        "#check merged file\n",
        "\n",
        "# df"
      ]
    },
    {
      "cell_type": "markdown",
      "metadata": {
        "id": "XFihsJ-JHb2G"
      },
      "source": [
        "# Data Pre-processing and Cleaning\n"
      ]
    },
    {
      "cell_type": "markdown",
      "source": [
        "set to datetime format\n"
      ],
      "metadata": {
        "id": "YKZojpmZs-1m"
      }
    },
    {
      "cell_type": "code",
      "execution_count": null,
      "metadata": {
        "id": "QqTrut9AyXSg"
      },
      "outputs": [],
      "source": [
        "df['journaldatetime'] = pd.to_datetime(df['journaldatetime'])"
      ]
    },
    {
      "cell_type": "markdown",
      "source": [
        "Calculate z-score of amount column"
      ],
      "metadata": {
        "id": "TTyWKbLmtFqr"
      }
    },
    {
      "cell_type": "code",
      "execution_count": null,
      "metadata": {
        "id": "vGwsqKPYu9pk"
      },
      "outputs": [],
      "source": [
        "z_score = np.abs((df['amount'] - df['amount'].mean()) / df['amount'].std())"
      ]
    },
    {
      "cell_type": "markdown",
      "source": [
        "Clean the data"
      ],
      "metadata": {
        "id": "100mWjtGtGjH"
      }
    },
    {
      "cell_type": "code",
      "execution_count": null,
      "metadata": {
        "id": "p__3l9biHIRo"
      },
      "outputs": [],
      "source": [
        "# Identify outlier rows where z-score is greater than 3\n",
        "outlier_rows = df[z_score > 3].index\n",
        "\n",
        "# Remove outlier rows and rows where productoid is 8\n",
        "df = df.drop(outlier_rows, axis=0)\n",
        "df = df[df['productoid'] != 8]\n",
        "\n",
        "# Recalculate z-score and identify remaining outlier rows\n",
        "z_score = np.abs((df['amount'] - df['amount'].mean()) / df['amount'].std())\n",
        "outlier_rows = df[z_score > 3].index\n",
        "\n",
        "# Remove any remaining outlier rows\n",
        "df = df.drop(outlier_rows, axis=0)"
      ]
    },
    {
      "cell_type": "markdown",
      "source": [
        "See the shape of the dataframe after cleaning"
      ],
      "metadata": {
        "id": "yKFyRI3KtMMN"
      }
    },
    {
      "cell_type": "code",
      "execution_count": null,
      "metadata": {
        "colab": {
          "base_uri": "https://localhost:8080/"
        },
        "id": "-gfv_RpPHUYX",
        "outputId": "c2f7a1f3-199c-46d7-da1e-0d3d218e468b"
      },
      "outputs": [
        {
          "output_type": "stream",
          "name": "stdout",
          "text": [
            "(675039, 37)\n"
          ]
        }
      ],
      "source": [
        "# Print the shape of the DataFrame\n",
        "print(df.shape)"
      ]
    },
    {
      "cell_type": "markdown",
      "metadata": {
        "id": "dJAWbVlP6hNK"
      },
      "source": [
        "# Data Exploration"
      ]
    },
    {
      "cell_type": "code",
      "execution_count": null,
      "metadata": {
        "id": "Jj4n567569sq"
      },
      "outputs": [],
      "source": [
        "# Convert the datetimejournal variable to datetime format\n",
        "df['journaldatetime'] = pd.to_datetime(df['journaldatetime'])"
      ]
    },
    {
      "cell_type": "code",
      "execution_count": null,
      "metadata": {
        "colab": {
          "base_uri": "https://localhost:8080/",
          "height": 661
        },
        "id": "6sgWx82JAEBv",
        "outputId": "0ff5fe02-e99c-47d5-f7c9-9d071729b154"
      },
      "outputs": [
        {
          "output_type": "execute_result",
          "data": {
            "text/plain": [
              "           oid         journaldatetime  posnumber    userid       document_no  \\\n",
              "0       658440 2019-03-03 15:41:50.000          1  Cashier2  2019030000658430   \n",
              "1       658441 2019-03-03 15:42:51.218          1  Cashier2  2019030000658431   \n",
              "2       658442 2019-03-03 15:44:55.562          1  Cashier2  2019030000658432   \n",
              "4       658444 2019-03-03 15:46:17.406          1  Cashier2  2019030000658434   \n",
              "5       658445 2019-03-03 15:46:29.265          1  Cashier2  2019030000658435   \n",
              "...        ...                     ...        ...       ...               ...   \n",
              "713851  658434 2019-03-03 15:32:53.750          1  Cashier2  2019030000658424   \n",
              "713853  658436 2019-03-03 15:34:08.828          1  Cashier2  2019030000658426   \n",
              "713854  658437 2019-03-03 15:34:59.921          1  Cashier2  2019030000658427   \n",
              "713855  658438 2019-03-03 15:39:27.921          1  Cashier2  2019030000658428   \n",
              "713856  658439 2019-03-03 15:40:55.828          1  Cashier2  2019030000658429   \n",
              "\n",
              "        customeroid  qty_x  amount  discount_x  total_x  total_receive  \\\n",
              "0                 1   2.70    75.0         0.0     75.0           75.0   \n",
              "1                 1  32.25   900.0         0.0    900.0          900.0   \n",
              "2                 1  10.81   300.0         0.0    300.0          300.0   \n",
              "4                 1  10.81   300.0         0.0    300.0          300.0   \n",
              "5                 1  10.80   300.0         0.0    300.0          300.0   \n",
              "...             ...    ...     ...         ...      ...            ...   \n",
              "713851            1  33.15   920.0         0.0    920.0          920.0   \n",
              "713853            1  26.30   730.0         0.0    730.0          730.0   \n",
              "713854            1  10.80   300.0         0.0    300.0          300.0   \n",
              "713855            1  10.81   300.0         0.0    300.0          300.0   \n",
              "713856            1   2.49    70.0         0.0     70.0           70.0   \n",
              "\n",
              "        change  period_num  shift_id  print_count  journal_type  reference_no  \\\n",
              "0          0.0         764         2            1             1           NaN   \n",
              "1          0.0         764         2            1             1           NaN   \n",
              "2          0.0         764         2            1             1           NaN   \n",
              "4          0.0         764         2            1             1           NaN   \n",
              "5          0.0         764         2            1             1           NaN   \n",
              "...        ...         ...       ...          ...           ...           ...   \n",
              "713851     0.0         764         2            1             1           NaN   \n",
              "713853     0.0         764         2            1             1           NaN   \n",
              "713854     0.0         764         2            1             1           NaN   \n",
              "713855     0.0         764         2            1             1           NaN   \n",
              "713856     0.0         764         2            1             1           NaN   \n",
              "\n",
              "        total_goods_amount  total_tax_amount  journaloid  productoid  unitoid  \\\n",
              "0                   70.093             4.907      593773        1006        1   \n",
              "1                  841.121            58.879      593773        1003        1   \n",
              "2                  280.374            19.626      593774        1005        1   \n",
              "4                  280.374            19.626      593776        1000        1   \n",
              "5                  280.374            19.626      593777        1003        1   \n",
              "...                    ...               ...         ...         ...      ...   \n",
              "713851             859.813            60.187      593767        1006        1   \n",
              "713853             682.243            47.757      593769        1000        1   \n",
              "713854             280.374            19.626      593770        1006        1   \n",
              "713855             280.374            19.626      593771        1000        1   \n",
              "713856              65.421             4.579      593772        1000        1   \n",
              "\n",
              "        unitprice  qty_y   amout  discount_y  total_y  item_type  status  \\\n",
              "0           25.55   2.94    75.1         0.0     75.1          2       1   \n",
              "1           25.82   2.71    70.0         0.0     70.0          2       1   \n",
              "2           28.73  48.73  1400.0         0.0   1400.0          2       1   \n",
              "4           24.86  20.11   500.0         0.0    500.0          2       1   \n",
              "5           25.82   3.09    80.0         0.0     80.0          2       1   \n",
              "...           ...    ...     ...         ...      ...        ...     ...   \n",
              "713851      25.55   3.92   100.2         0.0    100.2          2       1   \n",
              "713853      24.86  28.15   700.0         0.0    700.0          2       1   \n",
              "713854      25.55   2.34    60.0         0.0     60.0          2       1   \n",
              "713855      24.86  28.15   700.0         0.0    700.0          2       1   \n",
              "713856      24.86  36.20   900.0         0.0    900.0          2       1   \n",
              "\n",
              "        pumpnumber  hosenumber  delivery_id    item_name  goods_amout  \\\n",
              "0              2.0         2.0     725164.0    GASOHOL91       70.187   \n",
              "1              2.0         3.0     725165.0    GASOHOL95       65.421   \n",
              "2              7.0         2.0     725167.0  DIESEL PLUS     1308.411   \n",
              "4              7.0         1.0     725168.0      DIESEL       467.290   \n",
              "5              2.0         3.0     725169.0    GASOHOL95       74.766   \n",
              "...            ...         ...          ...          ...          ...   \n",
              "713851         2.0         2.0     725103.0    GASOHOL91       93.645   \n",
              "713853         7.0         1.0     725160.0      DIESEL       654.206   \n",
              "713854         5.0         2.0     725161.0    GASOHOL91       56.075   \n",
              "713855         7.0         1.0     725163.0      DIESEL       654.206   \n",
              "713856         7.0         1.0     725162.0      DIESEL       841.121   \n",
              "\n",
              "        tax_type  tax_rate  tax_amout  \n",
              "0            2.0       7.0      4.913  \n",
              "1            2.0       7.0      4.579  \n",
              "2            2.0       7.0     91.589  \n",
              "4            2.0       7.0     32.710  \n",
              "5            2.0       7.0      5.234  \n",
              "...          ...       ...        ...  \n",
              "713851       2.0       7.0      6.555  \n",
              "713853       2.0       7.0     45.794  \n",
              "713854       2.0       7.0      3.925  \n",
              "713855       2.0       7.0     45.794  \n",
              "713856       2.0       7.0     58.879  \n",
              "\n",
              "[675039 rows x 37 columns]"
            ],
            "text/html": [
              "\n",
              "  <div id=\"df-a4fcade5-c0af-4a96-8aa9-e88bbc1aa4cd\">\n",
              "    <div class=\"colab-df-container\">\n",
              "      <div>\n",
              "<style scoped>\n",
              "    .dataframe tbody tr th:only-of-type {\n",
              "        vertical-align: middle;\n",
              "    }\n",
              "\n",
              "    .dataframe tbody tr th {\n",
              "        vertical-align: top;\n",
              "    }\n",
              "\n",
              "    .dataframe thead th {\n",
              "        text-align: right;\n",
              "    }\n",
              "</style>\n",
              "<table border=\"1\" class=\"dataframe\">\n",
              "  <thead>\n",
              "    <tr style=\"text-align: right;\">\n",
              "      <th></th>\n",
              "      <th>oid</th>\n",
              "      <th>journaldatetime</th>\n",
              "      <th>posnumber</th>\n",
              "      <th>userid</th>\n",
              "      <th>document_no</th>\n",
              "      <th>customeroid</th>\n",
              "      <th>qty_x</th>\n",
              "      <th>amount</th>\n",
              "      <th>discount_x</th>\n",
              "      <th>total_x</th>\n",
              "      <th>total_receive</th>\n",
              "      <th>change</th>\n",
              "      <th>period_num</th>\n",
              "      <th>shift_id</th>\n",
              "      <th>print_count</th>\n",
              "      <th>journal_type</th>\n",
              "      <th>reference_no</th>\n",
              "      <th>total_goods_amount</th>\n",
              "      <th>total_tax_amount</th>\n",
              "      <th>journaloid</th>\n",
              "      <th>productoid</th>\n",
              "      <th>unitoid</th>\n",
              "      <th>unitprice</th>\n",
              "      <th>qty_y</th>\n",
              "      <th>amout</th>\n",
              "      <th>discount_y</th>\n",
              "      <th>total_y</th>\n",
              "      <th>item_type</th>\n",
              "      <th>status</th>\n",
              "      <th>pumpnumber</th>\n",
              "      <th>hosenumber</th>\n",
              "      <th>delivery_id</th>\n",
              "      <th>item_name</th>\n",
              "      <th>goods_amout</th>\n",
              "      <th>tax_type</th>\n",
              "      <th>tax_rate</th>\n",
              "      <th>tax_amout</th>\n",
              "    </tr>\n",
              "  </thead>\n",
              "  <tbody>\n",
              "    <tr>\n",
              "      <th>0</th>\n",
              "      <td>658440</td>\n",
              "      <td>2019-03-03 15:41:50.000</td>\n",
              "      <td>1</td>\n",
              "      <td>Cashier2</td>\n",
              "      <td>2019030000658430</td>\n",
              "      <td>1</td>\n",
              "      <td>2.70</td>\n",
              "      <td>75.0</td>\n",
              "      <td>0.0</td>\n",
              "      <td>75.0</td>\n",
              "      <td>75.0</td>\n",
              "      <td>0.0</td>\n",
              "      <td>764</td>\n",
              "      <td>2</td>\n",
              "      <td>1</td>\n",
              "      <td>1</td>\n",
              "      <td>NaN</td>\n",
              "      <td>70.093</td>\n",
              "      <td>4.907</td>\n",
              "      <td>593773</td>\n",
              "      <td>1006</td>\n",
              "      <td>1</td>\n",
              "      <td>25.55</td>\n",
              "      <td>2.94</td>\n",
              "      <td>75.1</td>\n",
              "      <td>0.0</td>\n",
              "      <td>75.1</td>\n",
              "      <td>2</td>\n",
              "      <td>1</td>\n",
              "      <td>2.0</td>\n",
              "      <td>2.0</td>\n",
              "      <td>725164.0</td>\n",
              "      <td>GASOHOL91</td>\n",
              "      <td>70.187</td>\n",
              "      <td>2.0</td>\n",
              "      <td>7.0</td>\n",
              "      <td>4.913</td>\n",
              "    </tr>\n",
              "    <tr>\n",
              "      <th>1</th>\n",
              "      <td>658441</td>\n",
              "      <td>2019-03-03 15:42:51.218</td>\n",
              "      <td>1</td>\n",
              "      <td>Cashier2</td>\n",
              "      <td>2019030000658431</td>\n",
              "      <td>1</td>\n",
              "      <td>32.25</td>\n",
              "      <td>900.0</td>\n",
              "      <td>0.0</td>\n",
              "      <td>900.0</td>\n",
              "      <td>900.0</td>\n",
              "      <td>0.0</td>\n",
              "      <td>764</td>\n",
              "      <td>2</td>\n",
              "      <td>1</td>\n",
              "      <td>1</td>\n",
              "      <td>NaN</td>\n",
              "      <td>841.121</td>\n",
              "      <td>58.879</td>\n",
              "      <td>593773</td>\n",
              "      <td>1003</td>\n",
              "      <td>1</td>\n",
              "      <td>25.82</td>\n",
              "      <td>2.71</td>\n",
              "      <td>70.0</td>\n",
              "      <td>0.0</td>\n",
              "      <td>70.0</td>\n",
              "      <td>2</td>\n",
              "      <td>1</td>\n",
              "      <td>2.0</td>\n",
              "      <td>3.0</td>\n",
              "      <td>725165.0</td>\n",
              "      <td>GASOHOL95</td>\n",
              "      <td>65.421</td>\n",
              "      <td>2.0</td>\n",
              "      <td>7.0</td>\n",
              "      <td>4.579</td>\n",
              "    </tr>\n",
              "    <tr>\n",
              "      <th>2</th>\n",
              "      <td>658442</td>\n",
              "      <td>2019-03-03 15:44:55.562</td>\n",
              "      <td>1</td>\n",
              "      <td>Cashier2</td>\n",
              "      <td>2019030000658432</td>\n",
              "      <td>1</td>\n",
              "      <td>10.81</td>\n",
              "      <td>300.0</td>\n",
              "      <td>0.0</td>\n",
              "      <td>300.0</td>\n",
              "      <td>300.0</td>\n",
              "      <td>0.0</td>\n",
              "      <td>764</td>\n",
              "      <td>2</td>\n",
              "      <td>1</td>\n",
              "      <td>1</td>\n",
              "      <td>NaN</td>\n",
              "      <td>280.374</td>\n",
              "      <td>19.626</td>\n",
              "      <td>593774</td>\n",
              "      <td>1005</td>\n",
              "      <td>1</td>\n",
              "      <td>28.73</td>\n",
              "      <td>48.73</td>\n",
              "      <td>1400.0</td>\n",
              "      <td>0.0</td>\n",
              "      <td>1400.0</td>\n",
              "      <td>2</td>\n",
              "      <td>1</td>\n",
              "      <td>7.0</td>\n",
              "      <td>2.0</td>\n",
              "      <td>725167.0</td>\n",
              "      <td>DIESEL PLUS</td>\n",
              "      <td>1308.411</td>\n",
              "      <td>2.0</td>\n",
              "      <td>7.0</td>\n",
              "      <td>91.589</td>\n",
              "    </tr>\n",
              "    <tr>\n",
              "      <th>4</th>\n",
              "      <td>658444</td>\n",
              "      <td>2019-03-03 15:46:17.406</td>\n",
              "      <td>1</td>\n",
              "      <td>Cashier2</td>\n",
              "      <td>2019030000658434</td>\n",
              "      <td>1</td>\n",
              "      <td>10.81</td>\n",
              "      <td>300.0</td>\n",
              "      <td>0.0</td>\n",
              "      <td>300.0</td>\n",
              "      <td>300.0</td>\n",
              "      <td>0.0</td>\n",
              "      <td>764</td>\n",
              "      <td>2</td>\n",
              "      <td>1</td>\n",
              "      <td>1</td>\n",
              "      <td>NaN</td>\n",
              "      <td>280.374</td>\n",
              "      <td>19.626</td>\n",
              "      <td>593776</td>\n",
              "      <td>1000</td>\n",
              "      <td>1</td>\n",
              "      <td>24.86</td>\n",
              "      <td>20.11</td>\n",
              "      <td>500.0</td>\n",
              "      <td>0.0</td>\n",
              "      <td>500.0</td>\n",
              "      <td>2</td>\n",
              "      <td>1</td>\n",
              "      <td>7.0</td>\n",
              "      <td>1.0</td>\n",
              "      <td>725168.0</td>\n",
              "      <td>DIESEL</td>\n",
              "      <td>467.290</td>\n",
              "      <td>2.0</td>\n",
              "      <td>7.0</td>\n",
              "      <td>32.710</td>\n",
              "    </tr>\n",
              "    <tr>\n",
              "      <th>5</th>\n",
              "      <td>658445</td>\n",
              "      <td>2019-03-03 15:46:29.265</td>\n",
              "      <td>1</td>\n",
              "      <td>Cashier2</td>\n",
              "      <td>2019030000658435</td>\n",
              "      <td>1</td>\n",
              "      <td>10.80</td>\n",
              "      <td>300.0</td>\n",
              "      <td>0.0</td>\n",
              "      <td>300.0</td>\n",
              "      <td>300.0</td>\n",
              "      <td>0.0</td>\n",
              "      <td>764</td>\n",
              "      <td>2</td>\n",
              "      <td>1</td>\n",
              "      <td>1</td>\n",
              "      <td>NaN</td>\n",
              "      <td>280.374</td>\n",
              "      <td>19.626</td>\n",
              "      <td>593777</td>\n",
              "      <td>1003</td>\n",
              "      <td>1</td>\n",
              "      <td>25.82</td>\n",
              "      <td>3.09</td>\n",
              "      <td>80.0</td>\n",
              "      <td>0.0</td>\n",
              "      <td>80.0</td>\n",
              "      <td>2</td>\n",
              "      <td>1</td>\n",
              "      <td>2.0</td>\n",
              "      <td>3.0</td>\n",
              "      <td>725169.0</td>\n",
              "      <td>GASOHOL95</td>\n",
              "      <td>74.766</td>\n",
              "      <td>2.0</td>\n",
              "      <td>7.0</td>\n",
              "      <td>5.234</td>\n",
              "    </tr>\n",
              "    <tr>\n",
              "      <th>...</th>\n",
              "      <td>...</td>\n",
              "      <td>...</td>\n",
              "      <td>...</td>\n",
              "      <td>...</td>\n",
              "      <td>...</td>\n",
              "      <td>...</td>\n",
              "      <td>...</td>\n",
              "      <td>...</td>\n",
              "      <td>...</td>\n",
              "      <td>...</td>\n",
              "      <td>...</td>\n",
              "      <td>...</td>\n",
              "      <td>...</td>\n",
              "      <td>...</td>\n",
              "      <td>...</td>\n",
              "      <td>...</td>\n",
              "      <td>...</td>\n",
              "      <td>...</td>\n",
              "      <td>...</td>\n",
              "      <td>...</td>\n",
              "      <td>...</td>\n",
              "      <td>...</td>\n",
              "      <td>...</td>\n",
              "      <td>...</td>\n",
              "      <td>...</td>\n",
              "      <td>...</td>\n",
              "      <td>...</td>\n",
              "      <td>...</td>\n",
              "      <td>...</td>\n",
              "      <td>...</td>\n",
              "      <td>...</td>\n",
              "      <td>...</td>\n",
              "      <td>...</td>\n",
              "      <td>...</td>\n",
              "      <td>...</td>\n",
              "      <td>...</td>\n",
              "      <td>...</td>\n",
              "    </tr>\n",
              "    <tr>\n",
              "      <th>713851</th>\n",
              "      <td>658434</td>\n",
              "      <td>2019-03-03 15:32:53.750</td>\n",
              "      <td>1</td>\n",
              "      <td>Cashier2</td>\n",
              "      <td>2019030000658424</td>\n",
              "      <td>1</td>\n",
              "      <td>33.15</td>\n",
              "      <td>920.0</td>\n",
              "      <td>0.0</td>\n",
              "      <td>920.0</td>\n",
              "      <td>920.0</td>\n",
              "      <td>0.0</td>\n",
              "      <td>764</td>\n",
              "      <td>2</td>\n",
              "      <td>1</td>\n",
              "      <td>1</td>\n",
              "      <td>NaN</td>\n",
              "      <td>859.813</td>\n",
              "      <td>60.187</td>\n",
              "      <td>593767</td>\n",
              "      <td>1006</td>\n",
              "      <td>1</td>\n",
              "      <td>25.55</td>\n",
              "      <td>3.92</td>\n",
              "      <td>100.2</td>\n",
              "      <td>0.0</td>\n",
              "      <td>100.2</td>\n",
              "      <td>2</td>\n",
              "      <td>1</td>\n",
              "      <td>2.0</td>\n",
              "      <td>2.0</td>\n",
              "      <td>725103.0</td>\n",
              "      <td>GASOHOL91</td>\n",
              "      <td>93.645</td>\n",
              "      <td>2.0</td>\n",
              "      <td>7.0</td>\n",
              "      <td>6.555</td>\n",
              "    </tr>\n",
              "    <tr>\n",
              "      <th>713853</th>\n",
              "      <td>658436</td>\n",
              "      <td>2019-03-03 15:34:08.828</td>\n",
              "      <td>1</td>\n",
              "      <td>Cashier2</td>\n",
              "      <td>2019030000658426</td>\n",
              "      <td>1</td>\n",
              "      <td>26.30</td>\n",
              "      <td>730.0</td>\n",
              "      <td>0.0</td>\n",
              "      <td>730.0</td>\n",
              "      <td>730.0</td>\n",
              "      <td>0.0</td>\n",
              "      <td>764</td>\n",
              "      <td>2</td>\n",
              "      <td>1</td>\n",
              "      <td>1</td>\n",
              "      <td>NaN</td>\n",
              "      <td>682.243</td>\n",
              "      <td>47.757</td>\n",
              "      <td>593769</td>\n",
              "      <td>1000</td>\n",
              "      <td>1</td>\n",
              "      <td>24.86</td>\n",
              "      <td>28.15</td>\n",
              "      <td>700.0</td>\n",
              "      <td>0.0</td>\n",
              "      <td>700.0</td>\n",
              "      <td>2</td>\n",
              "      <td>1</td>\n",
              "      <td>7.0</td>\n",
              "      <td>1.0</td>\n",
              "      <td>725160.0</td>\n",
              "      <td>DIESEL</td>\n",
              "      <td>654.206</td>\n",
              "      <td>2.0</td>\n",
              "      <td>7.0</td>\n",
              "      <td>45.794</td>\n",
              "    </tr>\n",
              "    <tr>\n",
              "      <th>713854</th>\n",
              "      <td>658437</td>\n",
              "      <td>2019-03-03 15:34:59.921</td>\n",
              "      <td>1</td>\n",
              "      <td>Cashier2</td>\n",
              "      <td>2019030000658427</td>\n",
              "      <td>1</td>\n",
              "      <td>10.80</td>\n",
              "      <td>300.0</td>\n",
              "      <td>0.0</td>\n",
              "      <td>300.0</td>\n",
              "      <td>300.0</td>\n",
              "      <td>0.0</td>\n",
              "      <td>764</td>\n",
              "      <td>2</td>\n",
              "      <td>1</td>\n",
              "      <td>1</td>\n",
              "      <td>NaN</td>\n",
              "      <td>280.374</td>\n",
              "      <td>19.626</td>\n",
              "      <td>593770</td>\n",
              "      <td>1006</td>\n",
              "      <td>1</td>\n",
              "      <td>25.55</td>\n",
              "      <td>2.34</td>\n",
              "      <td>60.0</td>\n",
              "      <td>0.0</td>\n",
              "      <td>60.0</td>\n",
              "      <td>2</td>\n",
              "      <td>1</td>\n",
              "      <td>5.0</td>\n",
              "      <td>2.0</td>\n",
              "      <td>725161.0</td>\n",
              "      <td>GASOHOL91</td>\n",
              "      <td>56.075</td>\n",
              "      <td>2.0</td>\n",
              "      <td>7.0</td>\n",
              "      <td>3.925</td>\n",
              "    </tr>\n",
              "    <tr>\n",
              "      <th>713855</th>\n",
              "      <td>658438</td>\n",
              "      <td>2019-03-03 15:39:27.921</td>\n",
              "      <td>1</td>\n",
              "      <td>Cashier2</td>\n",
              "      <td>2019030000658428</td>\n",
              "      <td>1</td>\n",
              "      <td>10.81</td>\n",
              "      <td>300.0</td>\n",
              "      <td>0.0</td>\n",
              "      <td>300.0</td>\n",
              "      <td>300.0</td>\n",
              "      <td>0.0</td>\n",
              "      <td>764</td>\n",
              "      <td>2</td>\n",
              "      <td>1</td>\n",
              "      <td>1</td>\n",
              "      <td>NaN</td>\n",
              "      <td>280.374</td>\n",
              "      <td>19.626</td>\n",
              "      <td>593771</td>\n",
              "      <td>1000</td>\n",
              "      <td>1</td>\n",
              "      <td>24.86</td>\n",
              "      <td>28.15</td>\n",
              "      <td>700.0</td>\n",
              "      <td>0.0</td>\n",
              "      <td>700.0</td>\n",
              "      <td>2</td>\n",
              "      <td>1</td>\n",
              "      <td>7.0</td>\n",
              "      <td>1.0</td>\n",
              "      <td>725163.0</td>\n",
              "      <td>DIESEL</td>\n",
              "      <td>654.206</td>\n",
              "      <td>2.0</td>\n",
              "      <td>7.0</td>\n",
              "      <td>45.794</td>\n",
              "    </tr>\n",
              "    <tr>\n",
              "      <th>713856</th>\n",
              "      <td>658439</td>\n",
              "      <td>2019-03-03 15:40:55.828</td>\n",
              "      <td>1</td>\n",
              "      <td>Cashier2</td>\n",
              "      <td>2019030000658429</td>\n",
              "      <td>1</td>\n",
              "      <td>2.49</td>\n",
              "      <td>70.0</td>\n",
              "      <td>0.0</td>\n",
              "      <td>70.0</td>\n",
              "      <td>70.0</td>\n",
              "      <td>0.0</td>\n",
              "      <td>764</td>\n",
              "      <td>2</td>\n",
              "      <td>1</td>\n",
              "      <td>1</td>\n",
              "      <td>NaN</td>\n",
              "      <td>65.421</td>\n",
              "      <td>4.579</td>\n",
              "      <td>593772</td>\n",
              "      <td>1000</td>\n",
              "      <td>1</td>\n",
              "      <td>24.86</td>\n",
              "      <td>36.20</td>\n",
              "      <td>900.0</td>\n",
              "      <td>0.0</td>\n",
              "      <td>900.0</td>\n",
              "      <td>2</td>\n",
              "      <td>1</td>\n",
              "      <td>7.0</td>\n",
              "      <td>1.0</td>\n",
              "      <td>725162.0</td>\n",
              "      <td>DIESEL</td>\n",
              "      <td>841.121</td>\n",
              "      <td>2.0</td>\n",
              "      <td>7.0</td>\n",
              "      <td>58.879</td>\n",
              "    </tr>\n",
              "  </tbody>\n",
              "</table>\n",
              "<p>675039 rows × 37 columns</p>\n",
              "</div>\n",
              "      <button class=\"colab-df-convert\" onclick=\"convertToInteractive('df-a4fcade5-c0af-4a96-8aa9-e88bbc1aa4cd')\"\n",
              "              title=\"Convert this dataframe to an interactive table.\"\n",
              "              style=\"display:none;\">\n",
              "        \n",
              "  <svg xmlns=\"http://www.w3.org/2000/svg\" height=\"24px\"viewBox=\"0 0 24 24\"\n",
              "       width=\"24px\">\n",
              "    <path d=\"M0 0h24v24H0V0z\" fill=\"none\"/>\n",
              "    <path d=\"M18.56 5.44l.94 2.06.94-2.06 2.06-.94-2.06-.94-.94-2.06-.94 2.06-2.06.94zm-11 1L8.5 8.5l.94-2.06 2.06-.94-2.06-.94L8.5 2.5l-.94 2.06-2.06.94zm10 10l.94 2.06.94-2.06 2.06-.94-2.06-.94-.94-2.06-.94 2.06-2.06.94z\"/><path d=\"M17.41 7.96l-1.37-1.37c-.4-.4-.92-.59-1.43-.59-.52 0-1.04.2-1.43.59L10.3 9.45l-7.72 7.72c-.78.78-.78 2.05 0 2.83L4 21.41c.39.39.9.59 1.41.59.51 0 1.02-.2 1.41-.59l7.78-7.78 2.81-2.81c.8-.78.8-2.07 0-2.86zM5.41 20L4 18.59l7.72-7.72 1.47 1.35L5.41 20z\"/>\n",
              "  </svg>\n",
              "      </button>\n",
              "      \n",
              "  <style>\n",
              "    .colab-df-container {\n",
              "      display:flex;\n",
              "      flex-wrap:wrap;\n",
              "      gap: 12px;\n",
              "    }\n",
              "\n",
              "    .colab-df-convert {\n",
              "      background-color: #E8F0FE;\n",
              "      border: none;\n",
              "      border-radius: 50%;\n",
              "      cursor: pointer;\n",
              "      display: none;\n",
              "      fill: #1967D2;\n",
              "      height: 32px;\n",
              "      padding: 0 0 0 0;\n",
              "      width: 32px;\n",
              "    }\n",
              "\n",
              "    .colab-df-convert:hover {\n",
              "      background-color: #E2EBFA;\n",
              "      box-shadow: 0px 1px 2px rgba(60, 64, 67, 0.3), 0px 1px 3px 1px rgba(60, 64, 67, 0.15);\n",
              "      fill: #174EA6;\n",
              "    }\n",
              "\n",
              "    [theme=dark] .colab-df-convert {\n",
              "      background-color: #3B4455;\n",
              "      fill: #D2E3FC;\n",
              "    }\n",
              "\n",
              "    [theme=dark] .colab-df-convert:hover {\n",
              "      background-color: #434B5C;\n",
              "      box-shadow: 0px 1px 3px 1px rgba(0, 0, 0, 0.15);\n",
              "      filter: drop-shadow(0px 1px 2px rgba(0, 0, 0, 0.3));\n",
              "      fill: #FFFFFF;\n",
              "    }\n",
              "  </style>\n",
              "\n",
              "      <script>\n",
              "        const buttonEl =\n",
              "          document.querySelector('#df-a4fcade5-c0af-4a96-8aa9-e88bbc1aa4cd button.colab-df-convert');\n",
              "        buttonEl.style.display =\n",
              "          google.colab.kernel.accessAllowed ? 'block' : 'none';\n",
              "\n",
              "        async function convertToInteractive(key) {\n",
              "          const element = document.querySelector('#df-a4fcade5-c0af-4a96-8aa9-e88bbc1aa4cd');\n",
              "          const dataTable =\n",
              "            await google.colab.kernel.invokeFunction('convertToInteractive',\n",
              "                                                     [key], {});\n",
              "          if (!dataTable) return;\n",
              "\n",
              "          const docLinkHtml = 'Like what you see? Visit the ' +\n",
              "            '<a target=\"_blank\" href=https://colab.research.google.com/notebooks/data_table.ipynb>data table notebook</a>'\n",
              "            + ' to learn more about interactive tables.';\n",
              "          element.innerHTML = '';\n",
              "          dataTable['output_type'] = 'display_data';\n",
              "          await google.colab.output.renderOutput(dataTable, element);\n",
              "          const docLink = document.createElement('div');\n",
              "          docLink.innerHTML = docLinkHtml;\n",
              "          element.appendChild(docLink);\n",
              "        }\n",
              "      </script>\n",
              "    </div>\n",
              "  </div>\n",
              "  "
            ]
          },
          "metadata": {},
          "execution_count": 258
        }
      ],
      "source": [
        "df"
      ]
    },
    {
      "cell_type": "markdown",
      "metadata": {
        "id": "ibo4Hj4WH3SY"
      },
      "source": [
        "# ---\n"
      ]
    },
    {
      "cell_type": "code",
      "execution_count": null,
      "metadata": {
        "id": "KgAH2DpuH7zV"
      },
      "outputs": [],
      "source": [
        "df=df.loc[:,['journaldatetime','amout','unitprice','qty_y','productoid']]\n"
      ]
    },
    {
      "cell_type": "code",
      "execution_count": null,
      "metadata": {
        "colab": {
          "base_uri": "https://localhost:8080/",
          "height": 206
        },
        "id": "0b8P4fFgYv9u",
        "outputId": "d9e8d967-8f34-421d-f87b-e30c43db6cbf"
      },
      "outputs": [
        {
          "output_type": "execute_result",
          "data": {
            "text/plain": [
              "                date-time  amount  unitprice    qty  productid\n",
              "0 2019-03-03 15:41:50.000    75.1      25.55   2.94       1006\n",
              "1 2019-03-03 15:42:51.218    70.0      25.82   2.71       1003\n",
              "2 2019-03-03 15:44:55.562  1400.0      28.73  48.73       1005\n",
              "4 2019-03-03 15:46:17.406   500.0      24.86  20.11       1000\n",
              "5 2019-03-03 15:46:29.265    80.0      25.82   3.09       1003"
            ],
            "text/html": [
              "\n",
              "  <div id=\"df-f01bebdc-b06f-4f2e-a433-795db3f3c06e\">\n",
              "    <div class=\"colab-df-container\">\n",
              "      <div>\n",
              "<style scoped>\n",
              "    .dataframe tbody tr th:only-of-type {\n",
              "        vertical-align: middle;\n",
              "    }\n",
              "\n",
              "    .dataframe tbody tr th {\n",
              "        vertical-align: top;\n",
              "    }\n",
              "\n",
              "    .dataframe thead th {\n",
              "        text-align: right;\n",
              "    }\n",
              "</style>\n",
              "<table border=\"1\" class=\"dataframe\">\n",
              "  <thead>\n",
              "    <tr style=\"text-align: right;\">\n",
              "      <th></th>\n",
              "      <th>date-time</th>\n",
              "      <th>amount</th>\n",
              "      <th>unitprice</th>\n",
              "      <th>qty</th>\n",
              "      <th>productid</th>\n",
              "    </tr>\n",
              "  </thead>\n",
              "  <tbody>\n",
              "    <tr>\n",
              "      <th>0</th>\n",
              "      <td>2019-03-03 15:41:50.000</td>\n",
              "      <td>75.1</td>\n",
              "      <td>25.55</td>\n",
              "      <td>2.94</td>\n",
              "      <td>1006</td>\n",
              "    </tr>\n",
              "    <tr>\n",
              "      <th>1</th>\n",
              "      <td>2019-03-03 15:42:51.218</td>\n",
              "      <td>70.0</td>\n",
              "      <td>25.82</td>\n",
              "      <td>2.71</td>\n",
              "      <td>1003</td>\n",
              "    </tr>\n",
              "    <tr>\n",
              "      <th>2</th>\n",
              "      <td>2019-03-03 15:44:55.562</td>\n",
              "      <td>1400.0</td>\n",
              "      <td>28.73</td>\n",
              "      <td>48.73</td>\n",
              "      <td>1005</td>\n",
              "    </tr>\n",
              "    <tr>\n",
              "      <th>4</th>\n",
              "      <td>2019-03-03 15:46:17.406</td>\n",
              "      <td>500.0</td>\n",
              "      <td>24.86</td>\n",
              "      <td>20.11</td>\n",
              "      <td>1000</td>\n",
              "    </tr>\n",
              "    <tr>\n",
              "      <th>5</th>\n",
              "      <td>2019-03-03 15:46:29.265</td>\n",
              "      <td>80.0</td>\n",
              "      <td>25.82</td>\n",
              "      <td>3.09</td>\n",
              "      <td>1003</td>\n",
              "    </tr>\n",
              "  </tbody>\n",
              "</table>\n",
              "</div>\n",
              "      <button class=\"colab-df-convert\" onclick=\"convertToInteractive('df-f01bebdc-b06f-4f2e-a433-795db3f3c06e')\"\n",
              "              title=\"Convert this dataframe to an interactive table.\"\n",
              "              style=\"display:none;\">\n",
              "        \n",
              "  <svg xmlns=\"http://www.w3.org/2000/svg\" height=\"24px\"viewBox=\"0 0 24 24\"\n",
              "       width=\"24px\">\n",
              "    <path d=\"M0 0h24v24H0V0z\" fill=\"none\"/>\n",
              "    <path d=\"M18.56 5.44l.94 2.06.94-2.06 2.06-.94-2.06-.94-.94-2.06-.94 2.06-2.06.94zm-11 1L8.5 8.5l.94-2.06 2.06-.94-2.06-.94L8.5 2.5l-.94 2.06-2.06.94zm10 10l.94 2.06.94-2.06 2.06-.94-2.06-.94-.94-2.06-.94 2.06-2.06.94z\"/><path d=\"M17.41 7.96l-1.37-1.37c-.4-.4-.92-.59-1.43-.59-.52 0-1.04.2-1.43.59L10.3 9.45l-7.72 7.72c-.78.78-.78 2.05 0 2.83L4 21.41c.39.39.9.59 1.41.59.51 0 1.02-.2 1.41-.59l7.78-7.78 2.81-2.81c.8-.78.8-2.07 0-2.86zM5.41 20L4 18.59l7.72-7.72 1.47 1.35L5.41 20z\"/>\n",
              "  </svg>\n",
              "      </button>\n",
              "      \n",
              "  <style>\n",
              "    .colab-df-container {\n",
              "      display:flex;\n",
              "      flex-wrap:wrap;\n",
              "      gap: 12px;\n",
              "    }\n",
              "\n",
              "    .colab-df-convert {\n",
              "      background-color: #E8F0FE;\n",
              "      border: none;\n",
              "      border-radius: 50%;\n",
              "      cursor: pointer;\n",
              "      display: none;\n",
              "      fill: #1967D2;\n",
              "      height: 32px;\n",
              "      padding: 0 0 0 0;\n",
              "      width: 32px;\n",
              "    }\n",
              "\n",
              "    .colab-df-convert:hover {\n",
              "      background-color: #E2EBFA;\n",
              "      box-shadow: 0px 1px 2px rgba(60, 64, 67, 0.3), 0px 1px 3px 1px rgba(60, 64, 67, 0.15);\n",
              "      fill: #174EA6;\n",
              "    }\n",
              "\n",
              "    [theme=dark] .colab-df-convert {\n",
              "      background-color: #3B4455;\n",
              "      fill: #D2E3FC;\n",
              "    }\n",
              "\n",
              "    [theme=dark] .colab-df-convert:hover {\n",
              "      background-color: #434B5C;\n",
              "      box-shadow: 0px 1px 3px 1px rgba(0, 0, 0, 0.15);\n",
              "      filter: drop-shadow(0px 1px 2px rgba(0, 0, 0, 0.3));\n",
              "      fill: #FFFFFF;\n",
              "    }\n",
              "  </style>\n",
              "\n",
              "      <script>\n",
              "        const buttonEl =\n",
              "          document.querySelector('#df-f01bebdc-b06f-4f2e-a433-795db3f3c06e button.colab-df-convert');\n",
              "        buttonEl.style.display =\n",
              "          google.colab.kernel.accessAllowed ? 'block' : 'none';\n",
              "\n",
              "        async function convertToInteractive(key) {\n",
              "          const element = document.querySelector('#df-f01bebdc-b06f-4f2e-a433-795db3f3c06e');\n",
              "          const dataTable =\n",
              "            await google.colab.kernel.invokeFunction('convertToInteractive',\n",
              "                                                     [key], {});\n",
              "          if (!dataTable) return;\n",
              "\n",
              "          const docLinkHtml = 'Like what you see? Visit the ' +\n",
              "            '<a target=\"_blank\" href=https://colab.research.google.com/notebooks/data_table.ipynb>data table notebook</a>'\n",
              "            + ' to learn more about interactive tables.';\n",
              "          element.innerHTML = '';\n",
              "          dataTable['output_type'] = 'display_data';\n",
              "          await google.colab.output.renderOutput(dataTable, element);\n",
              "          const docLink = document.createElement('div');\n",
              "          docLink.innerHTML = docLinkHtml;\n",
              "          element.appendChild(docLink);\n",
              "        }\n",
              "      </script>\n",
              "    </div>\n",
              "  </div>\n",
              "  "
            ]
          },
          "metadata": {},
          "execution_count": 261
        }
      ],
      "source": [
        "df=df.rename(columns={'journaldatetime':'date-time','qty_y': 'qty','amout':'amount', 'productoid':'productid'})\n",
        "df.head()"
      ]
    },
    {
      "cell_type": "markdown",
      "metadata": {
        "id": "iPgCSBbhbReD"
      },
      "source": [
        "##Random Forest **Regressor**"
      ]
    },
    {
      "cell_type": "markdown",
      "source": [
        "First, we format date-time to get month and day values"
      ],
      "metadata": {
        "id": "FDtmSFaOp8AW"
      }
    },
    {
      "cell_type": "code",
      "execution_count": null,
      "metadata": {
        "id": "_Mu2iHtwbPPO"
      },
      "outputs": [],
      "source": [
        "df['date-time'] = pd.to_datetime(df['date-time'])\n",
        "df['month'] = df['date-time'].dt.month\n",
        "df['day'] = df['date-time'].dt.day"
      ]
    },
    {
      "cell_type": "code",
      "execution_count": null,
      "metadata": {
        "id": "2jm1VpmCdnBu"
      },
      "outputs": [],
      "source": [
        "# df"
      ]
    },
    {
      "cell_type": "markdown",
      "source": [
        "First, the input features (month, day, product ID, and unit price) are extracted from the DataFrame df, and the target variable (quantity) is assigned to y.\n",
        "\n",
        "```\n",
        "# This is formatted as code\n",
        "```\n",
        "\n"
      ],
      "metadata": {
        "id": "GXJyIfYIo03e"
      }
    },
    {
      "cell_type": "code",
      "execution_count": null,
      "metadata": {
        "id": "Tey-Iq8nbrQB"
      },
      "outputs": [],
      "source": [
        "X = df[['month', 'day','productid','unitprice']]\n",
        "y = df['qty']"
      ]
    },
    {
      "cell_type": "markdown",
      "source": [
        "Then, the data is split into training and testing sets using the train_test_split function from the scikit-learn library, with a test size of 0.2 and a random state of 69"
      ],
      "metadata": {
        "id": "mTwoIANwo2N7"
      }
    },
    {
      "cell_type": "code",
      "execution_count": null,
      "metadata": {
        "id": "k_xT8ShrbttQ"
      },
      "outputs": [],
      "source": [
        "X_train, X_test, y_train, y_test = train_test_split(X, y, test_size=0.2, random_state=69)"
      ]
    },
    {
      "cell_type": "markdown",
      "source": [
        "Next, a random forest regressor model is initialized with 100 estimators and a random state of 69, and then trained on the training data using the fit method."
      ],
      "metadata": {
        "id": "b7s8HHo4o57B"
      }
    },
    {
      "cell_type": "code",
      "execution_count": null,
      "metadata": {
        "colab": {
          "base_uri": "https://localhost:8080/",
          "height": 74
        },
        "id": "jHm0ec38bw9m",
        "outputId": "44e0e72b-2024-4f2f-ff58-c1e16fd7d03a"
      },
      "outputs": [
        {
          "output_type": "execute_result",
          "data": {
            "text/plain": [
              "RandomForestRegressor(random_state=69)"
            ],
            "text/html": [
              "<style>#sk-container-id-3 {color: black;background-color: white;}#sk-container-id-3 pre{padding: 0;}#sk-container-id-3 div.sk-toggleable {background-color: white;}#sk-container-id-3 label.sk-toggleable__label {cursor: pointer;display: block;width: 100%;margin-bottom: 0;padding: 0.3em;box-sizing: border-box;text-align: center;}#sk-container-id-3 label.sk-toggleable__label-arrow:before {content: \"▸\";float: left;margin-right: 0.25em;color: #696969;}#sk-container-id-3 label.sk-toggleable__label-arrow:hover:before {color: black;}#sk-container-id-3 div.sk-estimator:hover label.sk-toggleable__label-arrow:before {color: black;}#sk-container-id-3 div.sk-toggleable__content {max-height: 0;max-width: 0;overflow: hidden;text-align: left;background-color: #f0f8ff;}#sk-container-id-3 div.sk-toggleable__content pre {margin: 0.2em;color: black;border-radius: 0.25em;background-color: #f0f8ff;}#sk-container-id-3 input.sk-toggleable__control:checked~div.sk-toggleable__content {max-height: 200px;max-width: 100%;overflow: auto;}#sk-container-id-3 input.sk-toggleable__control:checked~label.sk-toggleable__label-arrow:before {content: \"▾\";}#sk-container-id-3 div.sk-estimator input.sk-toggleable__control:checked~label.sk-toggleable__label {background-color: #d4ebff;}#sk-container-id-3 div.sk-label input.sk-toggleable__control:checked~label.sk-toggleable__label {background-color: #d4ebff;}#sk-container-id-3 input.sk-hidden--visually {border: 0;clip: rect(1px 1px 1px 1px);clip: rect(1px, 1px, 1px, 1px);height: 1px;margin: -1px;overflow: hidden;padding: 0;position: absolute;width: 1px;}#sk-container-id-3 div.sk-estimator {font-family: monospace;background-color: #f0f8ff;border: 1px dotted black;border-radius: 0.25em;box-sizing: border-box;margin-bottom: 0.5em;}#sk-container-id-3 div.sk-estimator:hover {background-color: #d4ebff;}#sk-container-id-3 div.sk-parallel-item::after {content: \"\";width: 100%;border-bottom: 1px solid gray;flex-grow: 1;}#sk-container-id-3 div.sk-label:hover label.sk-toggleable__label {background-color: #d4ebff;}#sk-container-id-3 div.sk-serial::before {content: \"\";position: absolute;border-left: 1px solid gray;box-sizing: border-box;top: 0;bottom: 0;left: 50%;z-index: 0;}#sk-container-id-3 div.sk-serial {display: flex;flex-direction: column;align-items: center;background-color: white;padding-right: 0.2em;padding-left: 0.2em;position: relative;}#sk-container-id-3 div.sk-item {position: relative;z-index: 1;}#sk-container-id-3 div.sk-parallel {display: flex;align-items: stretch;justify-content: center;background-color: white;position: relative;}#sk-container-id-3 div.sk-item::before, #sk-container-id-3 div.sk-parallel-item::before {content: \"\";position: absolute;border-left: 1px solid gray;box-sizing: border-box;top: 0;bottom: 0;left: 50%;z-index: -1;}#sk-container-id-3 div.sk-parallel-item {display: flex;flex-direction: column;z-index: 1;position: relative;background-color: white;}#sk-container-id-3 div.sk-parallel-item:first-child::after {align-self: flex-end;width: 50%;}#sk-container-id-3 div.sk-parallel-item:last-child::after {align-self: flex-start;width: 50%;}#sk-container-id-3 div.sk-parallel-item:only-child::after {width: 0;}#sk-container-id-3 div.sk-dashed-wrapped {border: 1px dashed gray;margin: 0 0.4em 0.5em 0.4em;box-sizing: border-box;padding-bottom: 0.4em;background-color: white;}#sk-container-id-3 div.sk-label label {font-family: monospace;font-weight: bold;display: inline-block;line-height: 1.2em;}#sk-container-id-3 div.sk-label-container {text-align: center;}#sk-container-id-3 div.sk-container {/* jupyter's `normalize.less` sets `[hidden] { display: none; }` but bootstrap.min.css set `[hidden] { display: none !important; }` so we also need the `!important` here to be able to override the default hidden behavior on the sphinx rendered scikit-learn.org. See: https://github.com/scikit-learn/scikit-learn/issues/21755 */display: inline-block !important;position: relative;}#sk-container-id-3 div.sk-text-repr-fallback {display: none;}</style><div id=\"sk-container-id-3\" class=\"sk-top-container\"><div class=\"sk-text-repr-fallback\"><pre>RandomForestRegressor(random_state=69)</pre><b>In a Jupyter environment, please rerun this cell to show the HTML representation or trust the notebook. <br />On GitHub, the HTML representation is unable to render, please try loading this page with nbviewer.org.</b></div><div class=\"sk-container\" hidden><div class=\"sk-item\"><div class=\"sk-estimator sk-toggleable\"><input class=\"sk-toggleable__control sk-hidden--visually\" id=\"sk-estimator-id-3\" type=\"checkbox\" checked><label for=\"sk-estimator-id-3\" class=\"sk-toggleable__label sk-toggleable__label-arrow\">RandomForestRegressor</label><div class=\"sk-toggleable__content\"><pre>RandomForestRegressor(random_state=69)</pre></div></div></div></div></div>"
            ]
          },
          "metadata": {},
          "execution_count": 266
        }
      ],
      "source": [
        "rf = RandomForestRegressor(n_estimators=100, random_state=69)\n",
        "rf.fit(X_train, y_train)"
      ]
    },
    {
      "cell_type": "markdown",
      "source": [
        "The predict method is then used to generate predicted values of the quantity for the test set, which are assigned to y_pred."
      ],
      "metadata": {
        "id": "M0TuqwYLpDc1"
      }
    },
    {
      "cell_type": "code",
      "source": [
        "y_pred = rf.predict(X_test)"
      ],
      "metadata": {
        "id": "QKWdStDbpFFE"
      },
      "execution_count": null,
      "outputs": []
    },
    {
      "cell_type": "markdown",
      "source": [
        "Finally, the mean absolute error (MAE) and R-squared value are calculated using the mean_absolute_error and r2_score functions from the scikit-learn library, respectively."
      ],
      "metadata": {
        "id": "qfVHz1URpsew"
      }
    },
    {
      "cell_type": "code",
      "source": [
        "mae = mean_absolute_error(y_test, y_pred)\n",
        "print('MAE:', mae)"
      ],
      "metadata": {
        "colab": {
          "base_uri": "https://localhost:8080/"
        },
        "id": "UAZNh1D4ppbS",
        "outputId": "7f2b6eb6-5083-4936-92d4-80d6ce42b276"
      },
      "execution_count": null,
      "outputs": [
        {
          "output_type": "stream",
          "name": "stdout",
          "text": [
            "MAE: 11.39334316981484\n"
          ]
        }
      ]
    },
    {
      "cell_type": "code",
      "execution_count": null,
      "metadata": {
        "colab": {
          "base_uri": "https://localhost:8080/"
        },
        "id": "C5oSie72cHff",
        "outputId": "514719c5-4587-4453-a064-eb5a6e06f69b"
      },
      "outputs": [
        {
          "output_type": "stream",
          "name": "stdout",
          "text": [
            "R-squared value: 0.20896466624716292\n"
          ]
        }
      ],
      "source": [
        "r2 = r2_score(y_test, y_pred)\n",
        "print(\"R-squared value:\", r2)"
      ]
    },
    {
      "cell_type": "markdown",
      "metadata": {
        "id": "LwwqzZdUefo3"
      },
      "source": [
        "#Another Model"
      ]
    },
    {
      "cell_type": "markdown",
      "source": [
        "Now, I will be attempting to use a Gradient Boosting Regressor to predict the quantity of products sold based on my selected features."
      ],
      "metadata": {
        "id": "V5NOUj1JqT0x"
      }
    },
    {
      "cell_type": "markdown",
      "source": [
        "First, we import the neccessary modules"
      ],
      "metadata": {
        "id": "Mk76J2MmqhmS"
      }
    },
    {
      "cell_type": "code",
      "execution_count": null,
      "metadata": {
        "id": "5WP0C6ijelbh"
      },
      "outputs": [],
      "source": [
        "from sklearn.model_selection import train_test_split\n",
        "from sklearn.ensemble import GradientBoostingRegressor"
      ]
    },
    {
      "cell_type": "markdown",
      "source": [
        "Then, the input features are extracted from df and stored in X. The target variable \"qty\" is also extracted from df and stored in the variable \"y\".\n",
        "After that, the dataset is split into training and testing sets using \"train_test_split\" with a test size of 0.2."
      ],
      "metadata": {
        "id": "aKiN46gjqbWz"
      }
    },
    {
      "cell_type": "code",
      "execution_count": null,
      "metadata": {
        "id": "s2Brq5IoeoCB"
      },
      "outputs": [],
      "source": [
        "X = df[['month', 'day','productid','unitprice']]\n",
        "y = df['qty']\n",
        "\n",
        "X_train, X_test, y_train, y_test = train_test_split(X, y, test_size=0.2)\n"
      ]
    },
    {
      "cell_type": "markdown",
      "source": [
        "The Gradient Boosting Regressor model is initialized accordingly with hyperparameters. The model is then trained on the training data using the \"fit\" method."
      ],
      "metadata": {
        "id": "Tb-VsWhhqtfM"
      }
    },
    {
      "cell_type": "code",
      "execution_count": null,
      "metadata": {
        "colab": {
          "base_uri": "https://localhost:8080/",
          "height": 74
        },
        "id": "4rUHwsAEesw7",
        "outputId": "932b0e25-4318-4ec2-acde-5b7e2728b2a6"
      },
      "outputs": [
        {
          "output_type": "execute_result",
          "data": {
            "text/plain": [
              "GradientBoostingRegressor(max_depth=1, random_state=42)"
            ],
            "text/html": [
              "<style>#sk-container-id-4 {color: black;background-color: white;}#sk-container-id-4 pre{padding: 0;}#sk-container-id-4 div.sk-toggleable {background-color: white;}#sk-container-id-4 label.sk-toggleable__label {cursor: pointer;display: block;width: 100%;margin-bottom: 0;padding: 0.3em;box-sizing: border-box;text-align: center;}#sk-container-id-4 label.sk-toggleable__label-arrow:before {content: \"▸\";float: left;margin-right: 0.25em;color: #696969;}#sk-container-id-4 label.sk-toggleable__label-arrow:hover:before {color: black;}#sk-container-id-4 div.sk-estimator:hover label.sk-toggleable__label-arrow:before {color: black;}#sk-container-id-4 div.sk-toggleable__content {max-height: 0;max-width: 0;overflow: hidden;text-align: left;background-color: #f0f8ff;}#sk-container-id-4 div.sk-toggleable__content pre {margin: 0.2em;color: black;border-radius: 0.25em;background-color: #f0f8ff;}#sk-container-id-4 input.sk-toggleable__control:checked~div.sk-toggleable__content {max-height: 200px;max-width: 100%;overflow: auto;}#sk-container-id-4 input.sk-toggleable__control:checked~label.sk-toggleable__label-arrow:before {content: \"▾\";}#sk-container-id-4 div.sk-estimator input.sk-toggleable__control:checked~label.sk-toggleable__label {background-color: #d4ebff;}#sk-container-id-4 div.sk-label input.sk-toggleable__control:checked~label.sk-toggleable__label {background-color: #d4ebff;}#sk-container-id-4 input.sk-hidden--visually {border: 0;clip: rect(1px 1px 1px 1px);clip: rect(1px, 1px, 1px, 1px);height: 1px;margin: -1px;overflow: hidden;padding: 0;position: absolute;width: 1px;}#sk-container-id-4 div.sk-estimator {font-family: monospace;background-color: #f0f8ff;border: 1px dotted black;border-radius: 0.25em;box-sizing: border-box;margin-bottom: 0.5em;}#sk-container-id-4 div.sk-estimator:hover {background-color: #d4ebff;}#sk-container-id-4 div.sk-parallel-item::after {content: \"\";width: 100%;border-bottom: 1px solid gray;flex-grow: 1;}#sk-container-id-4 div.sk-label:hover label.sk-toggleable__label {background-color: #d4ebff;}#sk-container-id-4 div.sk-serial::before {content: \"\";position: absolute;border-left: 1px solid gray;box-sizing: border-box;top: 0;bottom: 0;left: 50%;z-index: 0;}#sk-container-id-4 div.sk-serial {display: flex;flex-direction: column;align-items: center;background-color: white;padding-right: 0.2em;padding-left: 0.2em;position: relative;}#sk-container-id-4 div.sk-item {position: relative;z-index: 1;}#sk-container-id-4 div.sk-parallel {display: flex;align-items: stretch;justify-content: center;background-color: white;position: relative;}#sk-container-id-4 div.sk-item::before, #sk-container-id-4 div.sk-parallel-item::before {content: \"\";position: absolute;border-left: 1px solid gray;box-sizing: border-box;top: 0;bottom: 0;left: 50%;z-index: -1;}#sk-container-id-4 div.sk-parallel-item {display: flex;flex-direction: column;z-index: 1;position: relative;background-color: white;}#sk-container-id-4 div.sk-parallel-item:first-child::after {align-self: flex-end;width: 50%;}#sk-container-id-4 div.sk-parallel-item:last-child::after {align-self: flex-start;width: 50%;}#sk-container-id-4 div.sk-parallel-item:only-child::after {width: 0;}#sk-container-id-4 div.sk-dashed-wrapped {border: 1px dashed gray;margin: 0 0.4em 0.5em 0.4em;box-sizing: border-box;padding-bottom: 0.4em;background-color: white;}#sk-container-id-4 div.sk-label label {font-family: monospace;font-weight: bold;display: inline-block;line-height: 1.2em;}#sk-container-id-4 div.sk-label-container {text-align: center;}#sk-container-id-4 div.sk-container {/* jupyter's `normalize.less` sets `[hidden] { display: none; }` but bootstrap.min.css set `[hidden] { display: none !important; }` so we also need the `!important` here to be able to override the default hidden behavior on the sphinx rendered scikit-learn.org. See: https://github.com/scikit-learn/scikit-learn/issues/21755 */display: inline-block !important;position: relative;}#sk-container-id-4 div.sk-text-repr-fallback {display: none;}</style><div id=\"sk-container-id-4\" class=\"sk-top-container\"><div class=\"sk-text-repr-fallback\"><pre>GradientBoostingRegressor(max_depth=1, random_state=42)</pre><b>In a Jupyter environment, please rerun this cell to show the HTML representation or trust the notebook. <br />On GitHub, the HTML representation is unable to render, please try loading this page with nbviewer.org.</b></div><div class=\"sk-container\" hidden><div class=\"sk-item\"><div class=\"sk-estimator sk-toggleable\"><input class=\"sk-toggleable__control sk-hidden--visually\" id=\"sk-estimator-id-4\" type=\"checkbox\" checked><label for=\"sk-estimator-id-4\" class=\"sk-toggleable__label sk-toggleable__label-arrow\">GradientBoostingRegressor</label><div class=\"sk-toggleable__content\"><pre>GradientBoostingRegressor(max_depth=1, random_state=42)</pre></div></div></div></div></div>"
            ]
          },
          "metadata": {},
          "execution_count": 272
        }
      ],
      "source": [
        "gb = GradientBoostingRegressor(n_estimators=100, learning_rate=0.1, max_depth=1, random_state=42)\n",
        "gb.fit(X_train, y_train)\n"
      ]
    },
    {
      "cell_type": "markdown",
      "source": [
        "Predictions are made on the test data using the \"predict\" method and MSE, MAE, and R-squared value of the model's predictions are calculated using its respective functions."
      ],
      "metadata": {
        "id": "2UOaSeJurO_f"
      }
    },
    {
      "cell_type": "code",
      "source": [
        "predictions = gb.predict(X_test)\n",
        "\n",
        "mse = mean_squared_error(y_test, predictions)\n",
        "print('MSE:', mse)\n",
        "\n",
        "mae = mean_absolute_error(y_test, y_pred)\n",
        "print('MAE:', mae)\n",
        "\n",
        "r2 = r2_score(y_test, y_pred)\n",
        "print(\"R-squared value:\", r2)"
      ],
      "metadata": {
        "colab": {
          "base_uri": "https://localhost:8080/"
        },
        "id": "lHmlENpxrNt0",
        "outputId": "e8454257-6c29-4895-e6d9-d79a5ae96ed2"
      },
      "execution_count": null,
      "outputs": [
        {
          "output_type": "stream",
          "name": "stdout",
          "text": [
            "MSE: 380.51382373399156\n",
            "MAE: 15.610418520314331\n",
            "R-squared value: -0.22973241198583305\n"
          ]
        }
      ]
    },
    {
      "cell_type": "code",
      "source": [],
      "metadata": {
        "id": "bqd5pisAj1xm"
      },
      "execution_count": null,
      "outputs": []
    }
  ],
  "metadata": {
    "colab": {
      "provenance": []
    },
    "kernelspec": {
      "display_name": "Python 3",
      "name": "python3"
    },
    "language_info": {
      "name": "python"
    }
  },
  "nbformat": 4,
  "nbformat_minor": 0
}